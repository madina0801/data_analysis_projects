{
 "cells": [
  {
   "cell_type": "markdown",
   "id": "b6bb71db-d177-4226-a70e-f1340d7c5a3a",
   "metadata": {},
   "source": [
    "## About Data\n",
    "\n",
    "You have two datasets at your disposal: `Balance_Sheet.xlsx` and `Income_Statement.xlsx`. Both these datasets have three columns in common:\n",
    "- `\"Company\"`: The company's ticker name.\n",
    "- `\"comp_type\"` The type of industry the company in question belongs to. It is either `\"tech\"` for companies in the technology industry, `\"fmcg\"` for companies in the fast-moving consumer goods industry, and `\"real_est\"` for companies in the real estate industry. \n",
    "- `\"Year\"`: The year the company's information is from.\n",
    "\n",
    "The rest of the columns in the datasets contain information from the financial statement of the `\"Company\"` in question. Note that the columns in `Balance_Sheet.xlsx` only contain financial information from the balance sheet. Similarly, the columns in `Income_Statement.xlsx` only contain financial information from the income statement. The columns are named accordingly. For instance, the column `\"Total Liab\"` from `Balance_Sheet.xlsx` is the total liability."
   ]
  },
  {
   "cell_type": "code",
   "execution_count": 33,
   "id": "55d2a777-02c9-4448-8ecf-bff17c2e2aa1",
   "metadata": {
    "executionCancelledAt": null,
    "executionTime": 9,
    "lastExecutedAt": 1728976174307,
    "lastExecutedByKernel": "7eba77d1-a6e0-476e-a6ce-395d0583375e",
    "lastScheduledRunId": null,
    "lastSuccessfullyExecutedCode": "import numpy as np\nimport pandas as pd\nimport seaborn as sns",
    "outputsMetadata": {
     "0": {
      "height": 211,
      "type": "stream"
     }
    }
   },
   "outputs": [],
   "source": [
    "import numpy as np\n",
    "import pandas as pd\n",
    "import seaborn as sns"
   ]
  },
  {
   "cell_type": "code",
   "execution_count": 34,
   "id": "d5497544-d7f9-4df0-9199-940dc155a8d7",
   "metadata": {
    "executionCancelledAt": null,
    "executionTime": 92,
    "lastExecutedAt": 1728976174399,
    "lastExecutedByKernel": "7eba77d1-a6e0-476e-a6ce-395d0583375e",
    "lastScheduledRunId": null,
    "lastSuccessfullyExecutedCode": "balance = pd.read_excel(\"data/Balance_Sheet.xlsx\")\nincome = pd.read_excel(\"data/Income_Statement.xlsx\")\ndf_ratios = pd.merge(balance, income, on=[\"company\", \"comp_type\", \"Year\"])\ndf_ratios.head()"
   },
   "outputs": [
    {
     "data": {
      "application/com.datacamp.data-table.v2+json": {
       "table": {
        "data": {
         "Accounts Payable": [
          46236000000,
          42296000000,
          54763000000,
          64115000000,
          9382000000
         ],
         "Cash": [
          48844000000,
          38016000000,
          34940000000,
          23646000000,
          11356000000
         ],
         "Cost Of Goods Sold": [
          161782000000,
          169559000000,
          212981000000,
          223546000000,
          42910000000
         ],
         "Gross Profit": [
          98392000000,
          104956000000,
          152836000000,
          170782000000,
          82933000000
         ],
         "Inventory": [
          4106000000,
          4061000000,
          6580000000,
          4946000000,
          2063000000
         ],
         "Operating Income": [
          63930000000,
          66288000000,
          108949000000,
          119437000000,
          42959000000
         ],
         "Property Plant Equipment": [
          37378000000,
          45336000000,
          49527000000,
          84234000000,
          43856000000
         ],
         "Short Term Investments": [
          51713000000,
          52927000000,
          27699000000,
          24658000000,
          122476000000
         ],
         "Total Assets": [
          338516000000,
          323888000000,
          351002000000,
          352755000000,
          286556000000
         ],
         "Total Current Assets": [
          162819000000,
          143713000000,
          134836000000,
          135405000000,
          175552000000
         ],
         "Total Current Liabilities": [
          105718000000,
          105392000000,
          125481000000,
          153982000000,
          69420000000
         ],
         "Total Liab": [
          248028000000,
          258549000000,
          287912000000,
          302083000000,
          184226000000
         ],
         "Total Operating Expenses": [
          196244000000,
          208227000000,
          256868000000,
          274891000000,
          82884000000
         ],
         "Total Revenue": [
          260174000000,
          274515000000,
          365817000000,
          394328000000,
          125843000000
         ],
         "Total Stockholder Equity": [
          90488000000,
          65339000000,
          63090000000,
          50672000000,
          102330000000
         ],
         "Unnamed: 0_x": [
          0,
          1,
          2,
          3,
          4
         ],
         "Unnamed: 0_y": [
          0,
          1,
          2,
          3,
          4
         ],
         "Year": [
          2019,
          2020,
          2021,
          2022,
          2019
         ],
         "comp_type": [
          "tech",
          "tech",
          "tech",
          "tech",
          "tech"
         ],
         "company": [
          "AAPL",
          "AAPL",
          "AAPL",
          "AAPL",
          "MSFT"
         ],
         "index": [
          0,
          1,
          2,
          3,
          4
         ]
        },
        "schema": {
         "fields": [
          {
           "name": "index",
           "type": "integer"
          },
          {
           "name": "Unnamed: 0_x",
           "type": "integer"
          },
          {
           "name": "Year",
           "type": "integer"
          },
          {
           "name": "comp_type",
           "type": "string"
          },
          {
           "name": "company",
           "type": "string"
          },
          {
           "name": "Accounts Payable",
           "type": "integer"
          },
          {
           "name": "Cash",
           "type": "integer"
          },
          {
           "name": "Inventory",
           "type": "number"
          },
          {
           "name": "Property Plant Equipment",
           "type": "integer"
          },
          {
           "name": "Short Term Investments",
           "type": "number"
          },
          {
           "name": "Total Assets",
           "type": "integer"
          },
          {
           "name": "Total Current Assets",
           "type": "integer"
          },
          {
           "name": "Total Current Liabilities",
           "type": "integer"
          },
          {
           "name": "Total Liab",
           "type": "integer"
          },
          {
           "name": "Total Stockholder Equity",
           "type": "integer"
          },
          {
           "name": "Unnamed: 0_y",
           "type": "integer"
          },
          {
           "name": "Cost Of Goods Sold",
           "type": "integer"
          },
          {
           "name": "Gross Profit",
           "type": "integer"
          },
          {
           "name": "Operating Income",
           "type": "integer"
          },
          {
           "name": "Total Operating Expenses",
           "type": "integer"
          },
          {
           "name": "Total Revenue",
           "type": "integer"
          }
         ],
         "pandas_version": "1.4.0",
         "primaryKey": [
          "index"
         ]
        }
       },
       "total_rows": 5,
       "truncation_type": null
      },
      "text/html": [
       "<div>\n",
       "<style scoped>\n",
       "    .dataframe tbody tr th:only-of-type {\n",
       "        vertical-align: middle;\n",
       "    }\n",
       "\n",
       "    .dataframe tbody tr th {\n",
       "        vertical-align: top;\n",
       "    }\n",
       "\n",
       "    .dataframe thead th {\n",
       "        text-align: right;\n",
       "    }\n",
       "</style>\n",
       "<table border=\"1\" class=\"dataframe\">\n",
       "  <thead>\n",
       "    <tr style=\"text-align: right;\">\n",
       "      <th></th>\n",
       "      <th>Unnamed: 0_x</th>\n",
       "      <th>Year</th>\n",
       "      <th>comp_type</th>\n",
       "      <th>company</th>\n",
       "      <th>Accounts Payable</th>\n",
       "      <th>Cash</th>\n",
       "      <th>Inventory</th>\n",
       "      <th>Property Plant Equipment</th>\n",
       "      <th>Short Term Investments</th>\n",
       "      <th>Total Assets</th>\n",
       "      <th>Total Current Assets</th>\n",
       "      <th>Total Current Liabilities</th>\n",
       "      <th>Total Liab</th>\n",
       "      <th>Total Stockholder Equity</th>\n",
       "      <th>Unnamed: 0_y</th>\n",
       "      <th>Cost Of Goods Sold</th>\n",
       "      <th>Gross Profit</th>\n",
       "      <th>Operating Income</th>\n",
       "      <th>Total Operating Expenses</th>\n",
       "      <th>Total Revenue</th>\n",
       "    </tr>\n",
       "  </thead>\n",
       "  <tbody>\n",
       "    <tr>\n",
       "      <th>0</th>\n",
       "      <td>0</td>\n",
       "      <td>2019</td>\n",
       "      <td>tech</td>\n",
       "      <td>AAPL</td>\n",
       "      <td>46236000000</td>\n",
       "      <td>48844000000</td>\n",
       "      <td>4.106000e+09</td>\n",
       "      <td>37378000000</td>\n",
       "      <td>5.171300e+10</td>\n",
       "      <td>338516000000</td>\n",
       "      <td>162819000000</td>\n",
       "      <td>105718000000</td>\n",
       "      <td>248028000000</td>\n",
       "      <td>90488000000</td>\n",
       "      <td>0</td>\n",
       "      <td>161782000000</td>\n",
       "      <td>98392000000</td>\n",
       "      <td>63930000000</td>\n",
       "      <td>196244000000</td>\n",
       "      <td>260174000000</td>\n",
       "    </tr>\n",
       "    <tr>\n",
       "      <th>1</th>\n",
       "      <td>1</td>\n",
       "      <td>2020</td>\n",
       "      <td>tech</td>\n",
       "      <td>AAPL</td>\n",
       "      <td>42296000000</td>\n",
       "      <td>38016000000</td>\n",
       "      <td>4.061000e+09</td>\n",
       "      <td>45336000000</td>\n",
       "      <td>5.292700e+10</td>\n",
       "      <td>323888000000</td>\n",
       "      <td>143713000000</td>\n",
       "      <td>105392000000</td>\n",
       "      <td>258549000000</td>\n",
       "      <td>65339000000</td>\n",
       "      <td>1</td>\n",
       "      <td>169559000000</td>\n",
       "      <td>104956000000</td>\n",
       "      <td>66288000000</td>\n",
       "      <td>208227000000</td>\n",
       "      <td>274515000000</td>\n",
       "    </tr>\n",
       "    <tr>\n",
       "      <th>2</th>\n",
       "      <td>2</td>\n",
       "      <td>2021</td>\n",
       "      <td>tech</td>\n",
       "      <td>AAPL</td>\n",
       "      <td>54763000000</td>\n",
       "      <td>34940000000</td>\n",
       "      <td>6.580000e+09</td>\n",
       "      <td>49527000000</td>\n",
       "      <td>2.769900e+10</td>\n",
       "      <td>351002000000</td>\n",
       "      <td>134836000000</td>\n",
       "      <td>125481000000</td>\n",
       "      <td>287912000000</td>\n",
       "      <td>63090000000</td>\n",
       "      <td>2</td>\n",
       "      <td>212981000000</td>\n",
       "      <td>152836000000</td>\n",
       "      <td>108949000000</td>\n",
       "      <td>256868000000</td>\n",
       "      <td>365817000000</td>\n",
       "    </tr>\n",
       "    <tr>\n",
       "      <th>3</th>\n",
       "      <td>3</td>\n",
       "      <td>2022</td>\n",
       "      <td>tech</td>\n",
       "      <td>AAPL</td>\n",
       "      <td>64115000000</td>\n",
       "      <td>23646000000</td>\n",
       "      <td>4.946000e+09</td>\n",
       "      <td>84234000000</td>\n",
       "      <td>2.465800e+10</td>\n",
       "      <td>352755000000</td>\n",
       "      <td>135405000000</td>\n",
       "      <td>153982000000</td>\n",
       "      <td>302083000000</td>\n",
       "      <td>50672000000</td>\n",
       "      <td>3</td>\n",
       "      <td>223546000000</td>\n",
       "      <td>170782000000</td>\n",
       "      <td>119437000000</td>\n",
       "      <td>274891000000</td>\n",
       "      <td>394328000000</td>\n",
       "    </tr>\n",
       "    <tr>\n",
       "      <th>4</th>\n",
       "      <td>4</td>\n",
       "      <td>2019</td>\n",
       "      <td>tech</td>\n",
       "      <td>MSFT</td>\n",
       "      <td>9382000000</td>\n",
       "      <td>11356000000</td>\n",
       "      <td>2.063000e+09</td>\n",
       "      <td>43856000000</td>\n",
       "      <td>1.224760e+11</td>\n",
       "      <td>286556000000</td>\n",
       "      <td>175552000000</td>\n",
       "      <td>69420000000</td>\n",
       "      <td>184226000000</td>\n",
       "      <td>102330000000</td>\n",
       "      <td>4</td>\n",
       "      <td>42910000000</td>\n",
       "      <td>82933000000</td>\n",
       "      <td>42959000000</td>\n",
       "      <td>82884000000</td>\n",
       "      <td>125843000000</td>\n",
       "    </tr>\n",
       "  </tbody>\n",
       "</table>\n",
       "</div>"
      ],
      "text/plain": [
       "   Unnamed: 0_x  Year  ... Total Operating Expenses Total Revenue\n",
       "0             0  2019  ...             196244000000  260174000000\n",
       "1             1  2020  ...             208227000000  274515000000\n",
       "2             2  2021  ...             256868000000  365817000000\n",
       "3             3  2022  ...             274891000000  394328000000\n",
       "4             4  2019  ...              82884000000  125843000000\n",
       "\n",
       "[5 rows x 20 columns]"
      ]
     },
     "execution_count": 34,
     "metadata": {},
     "output_type": "execute_result"
    }
   ],
   "source": [
    "balance = pd.read_excel(\"data/Balance_Sheet.xlsx\")\n",
    "income = pd.read_excel(\"data/Income_Statement.xlsx\")\n",
    "df_ratios = pd.merge(balance, income, on=[\"company\", \"comp_type\", \"Year\"])\n",
    "df_ratios.head()"
   ]
  },
  {
   "cell_type": "code",
   "execution_count": 35,
   "id": "f97910e1-df2c-456e-bf7f-b6dcc7149673",
   "metadata": {
    "executionCancelledAt": null,
    "executionTime": 49,
    "lastExecutedAt": 1728976174448,
    "lastExecutedByKernel": "7eba77d1-a6e0-476e-a6ce-395d0583375e",
    "lastScheduledRunId": null,
    "lastSuccessfullyExecutedCode": "# Compute equity multiplier ratio\ndf_ratios[\"leverage_ratio\"] = df_ratios[\"Total Assets\"] / df_ratios[\"Total Stockholder Equity\"]\n\n# Compute gross margin ratio\ndf_ratios[\"profitability_ratio\"] = (df_ratios[\"Total Revenue\"] - df_ratios[\"Cost Of Goods Sold\"]) / df_ratios[\"Total Revenue\"] "
   },
   "outputs": [],
   "source": [
    "# Compute equity multiplier ratio\n",
    "df_ratios[\"leverage_ratio\"] = df_ratios[\"Total Assets\"] / df_ratios[\"Total Stockholder Equity\"]\n",
    "\n",
    "# Compute gross margin ratio\n",
    "df_ratios[\"profitability_ratio\"] = (df_ratios[\"Total Revenue\"] - df_ratios[\"Cost Of Goods Sold\"]) / df_ratios[\"Total Revenue\"] "
   ]
  },
  {
   "cell_type": "code",
   "execution_count": 36,
   "id": "6f230bef-851a-49b6-911c-ed0e69f87ce1",
   "metadata": {
    "executionCancelledAt": null,
    "executionTime": 47,
    "lastExecutedAt": 1728976174496,
    "lastExecutedByKernel": "7eba77d1-a6e0-476e-a6ce-395d0583375e",
    "lastScheduledRunId": null,
    "lastSuccessfullyExecutedCode": "# Get average ratio\nprint(df_ratios.pivot_table(index=\"comp_type\", values=\"profitability_ratio\"))\nlowest_profitability = \"fmcg\""
   },
   "outputs": [
    {
     "name": "stdout",
     "output_type": "stream",
     "text": [
      "           profitability_ratio\n",
      "comp_type                     \n",
      "fmcg                  0.514396\n",
      "real_est              0.534848\n",
      "tech                  0.572062\n"
     ]
    }
   ],
   "source": [
    "# Get average ratio\n",
    "print(df_ratios.pivot_table(index=\"comp_type\", values=\"profitability_ratio\"))\n",
    "lowest_profitability = \"fmcg\""
   ]
  },
  {
   "cell_type": "code",
   "execution_count": 37,
   "id": "4ef2133f-bee7-43c1-b32b-89386056fbbd",
   "metadata": {
    "executionCancelledAt": null,
    "executionTime": 56,
    "lastExecutedAt": 1728976174553,
    "lastExecutedByKernel": "7eba77d1-a6e0-476e-a6ce-395d0583375e",
    "lastScheduledRunId": null,
    "lastSuccessfullyExecutedCode": "print(df_ratios.pivot_table(index=\"comp_type\", values=\"leverage_ratio\"))\nhighest_leverage = \"real_est\"",
    "outputsMetadata": {
     "0": {
      "height": 122,
      "type": "stream"
     }
    }
   },
   "outputs": [
    {
     "name": "stdout",
     "output_type": "stream",
     "text": [
      "           leverage_ratio\n",
      "comp_type                \n",
      "fmcg             4.049784\n",
      "real_est         7.353476\n",
      "tech             2.777448\n"
     ]
    }
   ],
   "source": [
    "print(df_ratios.pivot_table(index=\"comp_type\", values=\"leverage_ratio\"))\n",
    "highest_leverage = \"real_est\""
   ]
  },
  {
   "cell_type": "code",
   "execution_count": 38,
   "id": "bafe080a-b0e3-4a5d-8fe1-d7a928e01462",
   "metadata": {
    "executionCancelledAt": null,
    "executionTime": 322,
    "lastExecutedAt": 1728976174875,
    "lastExecutedByKernel": "7eba77d1-a6e0-476e-a6ce-395d0583375e",
    "lastScheduledRunId": null,
    "lastSuccessfullyExecutedCode": "df_real_est = df_ratios[df_ratios[\"comp_type\"] == \"real_est\"]\nplot = sns.regplot(data=df_real_est, x=\"leverage_ratio\", y=\"profitability_ratio\")\nrelationship = \"positive\""
   },
   "outputs": [
    {
     "data": {
      "image/png": "[encoded data removed]",
      "text/plain": [
       "<Figure size 640x480 with 1 Axes>"
      ]
     },
     "metadata": {
      "image/png": {
       "height": 433,
       "width": 566
      }
     },
     "output_type": "display_data"
    }
   ],
   "source": [
    "df_real_est = df_ratios[df_ratios[\"comp_type\"] == \"real_est\"]\n",
    "plot = sns.regplot(data=df_real_est, x=\"leverage_ratio\", y=\"profitability_ratio\")\n",
    "relationship = \"positive\""
   ]
  }
 ],
 "metadata": {
  "colab": {
   "name": "Welcome to DataCamp Workspaces.ipynb",
   "provenance": []
  },
  "kernelspec": {
   "display_name": "Python 3 (ipykernel)",
   "language": "python",
   "name": "python3"
  },
  "language_info": {
   "codemirror_mode": {
    "name": "ipython",
    "version": 3
   },
   "file_extension": ".py",
   "mimetype": "text/x-python",
   "name": "python",
   "nbconvert_exporter": "python",
   "pygments_lexer": "ipython3",
   "version": "3.10.6"
  }
 },
 "nbformat": 4,
 "nbformat_minor": 5
}
