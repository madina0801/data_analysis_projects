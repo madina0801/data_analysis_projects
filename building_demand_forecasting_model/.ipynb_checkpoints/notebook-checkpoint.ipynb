{
 "cells": [
  {
   "cell_type": "markdown",
   "id": "6918e18a-c248-4929-b552-7aee2057c0eb",
   "metadata": {},
   "source": [
    "## The Data\n",
    "\n",
    "# Online Retail.csv\n",
    "\n",
    "| Column     | Description              |\n",
    "|------------|--------------------------|\n",
    "| `'InvoiceNo'` | A 6-digit number uniquely assigned to each transaction |\n",
    "| `'StockCode'` | A 5-digit number uniquely assigned to each distinct product |\n",
    "| `'Description'` | The product name |\n",
    "| `'Quantity'` | The quantity of each product (item) per transaction |\n",
    "| `'UnitPrice'` | Product price per unit |\n",
    "| `'CustomerID'` | A 5-digit number uniquely assigned to each customer |\n",
    "| `'Country'` | The name of the country where each customer resides |\n",
    "| `'InvoiceDate'` | The day and time when each transaction was generated `\"MM/DD/YYYY\"` |\n",
    "| `'Year'` | The year when each transaction was generated |\n",
    "| `'Month'` | The month when each transaction was generated |\n",
    "| `'Week'` | The week when each transaction was generated (`1`-`52`) |\n",
    "| `'Day'` | The day of the month when each transaction was generated (`1`-`31`) |\n",
    "| `'DayOfWeek'` | The day of the weeke when each transaction was generated <br>(`0` = Monday, `6` = Sunday) |"
   ]
  },
  {
   "cell_type": "code",
   "execution_count": null,
   "id": "81a07c66-a3d4-4fdd-9c3c-7b3a19b80d62",
   "metadata": {
    "executionCancelledAt": null,
    "executionTime": null,
    "jupyter": {
     "outputs_hidden": false,
     "source_hidden": false
    },
    "lastExecutedAt": null,
    "lastExecutedByKernel": null,
    "lastScheduledRunId": null,
    "lastSuccessfullyExecutedCode": null,
    "outputsMetadata": {
     "0": {
      "height": 38,
      "type": "stream"
     },
     "1": {
      "height": 59,
      "type": "stream"
     },
     "2": {
      "height": 38,
      "type": "stream"
     }
    }
   },
   "outputs": [],
   "source": [
    "# Import required libraries\n",
    "from pyspark.sql import SparkSession\n",
    "from pyspark.ml.feature import VectorAssembler\n",
    "from pyspark.ml import Pipeline\n",
    "from pyspark.ml.regression import RandomForestRegressor\n",
    "from pyspark.sql.functions import col, dayofmonth, month, year,  to_date, to_timestamp, weekofyear, dayofweek\n",
    "from pyspark.ml.feature import StringIndexer\n",
    "from pyspark.ml.evaluation import RegressionEvaluator\n",
    "\n",
    "# Initialize Spark session\n",
    "my_spark = SparkSession.builder.appName(\"SalesForecast\").getOrCreate()\n",
    "\n",
    "# Importing sales data\n",
    "sales_data = my_spark.read.csv(\n",
    "    \"Online Retail.csv\", header=True, inferSchema=True, sep=\",\")\n",
    "\n",
    "# Convert InvoiceDate to datetime \n",
    "sales_data = sales_data.withColumn(\"InvoiceDate\", to_date(\n",
    "    to_timestamp(col(\"InvoiceDate\"), \"d/M/yyyy H:mm\")))"
   ]
  },
  {
   "cell_type": "code",
   "execution_count": null,
   "id": "b5106e04-f9da-459f-a1cc-14e437fe001d",
   "metadata": {
    "executionCancelledAt": null,
    "executionTime": 74,
    "jupyter": {
     "outputs_hidden": false,
     "source_hidden": false
    },
    "lastExecutedAt": 1729488359049,
    "lastExecutedByKernel": "9c22d6fd-5ba2-4688-afb3-b05fb08b7983",
    "lastScheduledRunId": null,
    "lastSuccessfullyExecutedCode": "daily_sales_data = sales_data.groupBy(\"Country\", \"StockCode\", \"InvoiceDate\", \"Year\", \"Month\", \"Day\", \"Week\", \"DayOfWeek\").agg({\"Quantity\": \"sum\", \"UnitPrice\": \"avg\"})\ndaily_sales_data = daily_sales_data.withColumnRenamed(\"sum(Quantity)\", \"Quantity\")\n"
   },
   "outputs": [],
   "source": [
    "daily_sales_data = sales_data.groupBy(\"Country\", \"StockCode\", \"InvoiceDate\", \"Year\", \"Month\", \"Day\", \"Week\", \"DayOfWeek\").agg({\"Quantity\": \"sum\", \"UnitPrice\": \"avg\"})\n",
    "daily_sales_data = daily_sales_data.withColumnRenamed(\"sum(Quantity)\", \"Quantity\")"
   ]
  },
  {
   "cell_type": "code",
   "execution_count": null,
   "id": "2b599fcc-1de0-4908-a940-39aeb8e824d4",
   "metadata": {
    "executionCancelledAt": null,
    "executionTime": 3609,
    "lastExecutedAt": 1729488362658,
    "lastExecutedByKernel": "9c22d6fd-5ba2-4688-afb3-b05fb08b7983",
    "lastScheduledRunId": null,
    "lastSuccessfullyExecutedCode": "# Split data on the splitting date, '2011-09-25'\nsplit_date_train_test = \"2011-09-25\"\n\n# Create the train and test ds\ntrain_data = daily_sales_data.filter(col('InvoiceDate') <= split_date_train_test)\ntest_data = daily_sales_data.filter(col('InvoiceDate') > split_date_train_test)\npd_daily_train_data = train_data.toPandas()",
    "outputsMetadata": {
     "0": {
      "height": 38,
      "type": "stream"
     }
    }
   },
   "outputs": [],
   "source": [
    "# Split data on the splitting date, '2011-09-25'\n",
    "split_date_train_test = \"2011-09-25\"\n",
    "\n",
    "# Create the train and test ds\n",
    "train_data = daily_sales_data.filter(col('InvoiceDate') <= split_date_train_test)\n",
    "test_data = daily_sales_data.filter(col('InvoiceDate') > split_date_train_test)\n",
    "pd_daily_train_data = train_data.toPandas()"
   ]
  },
  {
   "cell_type": "code",
   "execution_count": null,
   "id": "8bf86ae1-e7f1-44c1-834a-ce135dbcf8ce",
   "metadata": {
    "executionCancelledAt": null,
    "executionTime": 53,
    "lastExecutedAt": 1729488362713,
    "lastExecutedByKernel": "9c22d6fd-5ba2-4688-afb3-b05fb08b7983",
    "lastScheduledRunId": null,
    "lastSuccessfullyExecutedCode": "country_indexer = StringIndexer(inputCol='Country', outputCol='CountryIndex').setHandleInvalid(\"keep\")\nstock_code_indexer = StringIndexer(inputCol=\"StockCode\", outputCol=\"StockCodeIndex\").setHandleInvalid(\"keep\")"
   },
   "outputs": [],
   "source": [
    "country_indexer = StringIndexer(inputCol='Country', outputCol='CountryIndex').setHandleInvalid(\"keep\")\n",
    "stock_code_indexer = StringIndexer(inputCol=\"StockCode\", outputCol=\"StockCodeIndex\").setHandleInvalid(\"keep\")"
   ]
  },
  {
   "cell_type": "code",
   "execution_count": null,
   "id": "6b5a2fe6-a12a-49c0-b907-67cd2a85bf5b",
   "metadata": {
    "executionCancelledAt": null,
    "executionTime": 52,
    "lastExecutedAt": 1729488362765,
    "lastExecutedByKernel": "9c22d6fd-5ba2-4688-afb3-b05fb08b7983",
    "lastScheduledRunId": null,
    "lastSuccessfullyExecutedCode": "feature_cols = [\"CountryIndex\", \"StockCodeIndex\", \"Month\", \"Year\", \"DayOfWeek\", \"Day\",\"Week\"]\n# use VectorAssembler to combine features\nassembler = VectorAssembler(inputCols=feature_cols, outputCol='features')\n\n# use RandomForest model\nrf = RandomForestRegressor(featuresCol='features', labelCol='Quantity', maxBins=4000)"
   },
   "outputs": [],
   "source": [
    "feature_cols = [\"CountryIndex\", \"StockCodeIndex\", \"Month\", \"Year\", \"DayOfWeek\", \"Day\",\"Week\"]\n",
    "# use VectorAssembler to combine features\n",
    "assembler = VectorAssembler(inputCols=feature_cols, outputCol='features')\n",
    "\n",
    "# use RandomForest model\n",
    "rf = RandomForestRegressor(featuresCol='features', labelCol='Quantity', maxBins=4000)"
   ]
  },
  {
   "cell_type": "code",
   "execution_count": null,
   "id": "a8f30dff-e97c-4699-b5f0-a7a9aaa8665c",
   "metadata": {
    "executionCancelledAt": null,
    "executionTime": 52,
    "lastExecutedAt": 1729488362817,
    "lastExecutedByKernel": "9c22d6fd-5ba2-4688-afb3-b05fb08b7983",
    "lastScheduledRunId": null,
    "lastSuccessfullyExecutedCode": "# create a pipeline\npipeline = Pipeline(stages=[country_indexer, stock_code_indexer, assembler, rf])"
   },
   "outputs": [],
   "source": [
    "# create a pipeline\n",
    "pipeline = Pipeline(stages=[country_indexer, stock_code_indexer, assembler, rf])"
   ]
  },
  {
   "cell_type": "code",
   "execution_count": null,
   "id": "77374231-dcd3-4083-b1a5-db0e0fdacc92",
   "metadata": {
    "executionCancelledAt": null,
    "executionTime": 12218,
    "lastExecutedAt": 1729488375035,
    "lastExecutedByKernel": "9c22d6fd-5ba2-4688-afb3-b05fb08b7983",
    "lastScheduledRunId": null,
    "lastSuccessfullyExecutedCode": "# train the model\nmodel = pipeline.fit(train_data)",
    "outputsMetadata": {
     "0": {
      "height": 38,
      "type": "stream"
     },
     "1": {
      "height": 59,
      "type": "stream"
     },
     "2": {
      "height": 38,
      "type": "stream"
     },
     "3": {
      "height": 38,
      "type": "stream"
     },
     "4": {
      "height": 38,
      "type": "stream"
     },
     "5": {
      "height": 38,
      "type": "stream"
     },
     "6": {
      "height": 38,
      "type": "stream"
     }
    }
   },
   "outputs": [],
   "source": [
    "# train the model\n",
    "model = pipeline.fit(train_data)"
   ]
  },
  {
   "cell_type": "code",
   "execution_count": null,
   "id": "3ac6eb69-972b-4e97-ab7f-dcb28e8b9668",
   "metadata": {
    "executionCancelledAt": null,
    "executionTime": 561,
    "lastExecutedAt": 1729488375596,
    "lastExecutedByKernel": "9c22d6fd-5ba2-4688-afb3-b05fb08b7983",
    "lastScheduledRunId": null,
    "lastSuccessfullyExecutedCode": "# get predictions\ntest_predictions = model.transform(test_data)\ntest_predictions = test_predictions.withColumn('prediction', col('prediction').cast('double'))"
   },
   "outputs": [],
   "source": [
    "# get predictions\n",
    "test_predictions = model.transform(test_data)\n",
    "test_predictions = test_predictions.withColumn('prediction', col('prediction').cast('double'))"
   ]
  },
  {
   "cell_type": "code",
   "execution_count": null,
   "id": "02f7596e-5bae-4605-8cb0-25965b5dbf7f",
   "metadata": {
    "executionCancelledAt": null,
    "executionTime": 1591,
    "lastExecutedAt": 1729488377188,
    "lastExecutedByKernel": "9c22d6fd-5ba2-4688-afb3-b05fb08b7983",
    "lastScheduledRunId": null,
    "lastSuccessfullyExecutedCode": "# get mae\nmae_evaluator = RegressionEvaluator(labelCol='Quantity', predictionCol='prediction', metricName='mae')\nmae = mae_evaluator.evaluate(test_predictions)",
    "outputsMetadata": {
     "0": {
      "height": 38,
      "type": "stream"
     }
    }
   },
   "outputs": [],
   "source": [
    "# get mae\n",
    "mae_evaluator = RegressionEvaluator(labelCol='Quantity', predictionCol='prediction', metricName='mae')\n",
    "mae = mae_evaluator.evaluate(test_predictions)"
   ]
  },
  {
   "cell_type": "code",
   "execution_count": null,
   "id": "a66e1d2f-40d2-43c8-940c-7dbc8b4fad13",
   "metadata": {
    "executionCancelledAt": null,
    "executionTime": 1007,
    "lastExecutedAt": 1729488378195,
    "lastExecutedByKernel": "9c22d6fd-5ba2-4688-afb3-b05fb08b7983",
    "lastScheduledRunId": null,
    "lastSuccessfullyExecutedCode": "# return an integer of how many units will be sold during the week 39 of 2011\nweekly_test_predictions = test_predictions.groupby(\"Year\", \"Week\").agg({'prediction': 'sum'})\npromotion_week = weekly_test_predictions = weekly_test_predictions.filter(col('Week') == 39)\nquantity_sold_w39 = int(promotion_week.select(\"sum(prediction)\").collect()[0][0])\nprint(quantity_sold_w39)",
    "outputsMetadata": {
     "0": {
      "height": 38,
      "type": "stream"
     },
     "1": {
      "height": 38,
      "type": "stream"
     },
     "2": {
      "height": 38,
      "type": "stream"
     }
    }
   },
   "outputs": [],
   "source": [
    "# return an integer of how many units will be sold during the week 39 of 2011\n",
    "weekly_test_predictions = test_predictions.groupby(\"Year\", \"Week\").agg({'prediction': 'sum'})\n",
    "promotion_week = weekly_test_predictions = weekly_test_predictions.filter(col('Week') == 39)\n",
    "quantity_sold_w39 = int(promotion_week.select(\"sum(prediction)\").collect()[0][0])\n",
    "print(quantity_sold_w39)"
   ]
  },
  {
   "cell_type": "code",
   "execution_count": null,
   "id": "53975c24-f1f5-45a1-a8f8-e4bad4d3a078",
   "metadata": {
    "executionCancelledAt": null,
    "executionTime": 72,
    "lastExecutedAt": 1729488378267,
    "lastExecutedByKernel": "9c22d6fd-5ba2-4688-afb3-b05fb08b7983",
    "lastScheduledRunId": null,
    "lastSuccessfullyExecutedCode": "my_spark.stop()"
   },
   "outputs": [],
   "source": [
    "my_spark.stop()"
   ]
  }
 ],
 "metadata": {
  "colab": {
   "name": "Welcome to DataCamp Workspaces.ipynb",
   "provenance": []
  },
  "kernelspec": {
   "display_name": "Python 3 (ipykernel)",
   "language": "python",
   "name": "python3"
  },
  "language_info": {
   "codemirror_mode": {
    "name": "ipython",
    "version": 3
   },
   "file_extension": ".py",
   "mimetype": "text/x-python",
   "name": "python",
   "nbconvert_exporter": "python",
   "pygments_lexer": "ipython3",
   "version": "3.10.6"
  }
 },
 "nbformat": 4,
 "nbformat_minor": 5
}
