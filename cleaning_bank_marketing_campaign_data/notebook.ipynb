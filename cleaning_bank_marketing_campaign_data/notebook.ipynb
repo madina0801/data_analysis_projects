{
 "cells": [
  {
   "cell_type": "markdown",
   "id": "02077ee3-e1e4-4fc5-8de1-16e987afa5fb",
   "metadata": {},
   "source": [
    "Cleaned, reformated, and splitted the data, saving three final csv files. Specifically, the three files should have the names and contents as outlined below:\n",
    "\n",
    "## `client.csv`\n",
    "\n",
    "| column | data type | description | cleaning requirements |\n",
    "|--------|-----------|-------------|-----------------------|\n",
    "| `client_id` | `integer` | Client ID | N/A |\n",
    "| `age` | `integer` | Client's age in years | N/A |\n",
    "| `job` | `object` | Client's type of job | Change `\".\"` to `\"_\"` |\n",
    "| `marital` | `object` | Client's marital status | N/A |\n",
    "| `education` | `object` | Client's level of education | Change `\".\"` to `\"_\"` and `\"unknown\"` to `np.NaN` |\n",
    "| `credit_default` | `bool` | Whether the client's credit is in default | Convert to `boolean` data type:<br> `1` if `\"yes\"`, otherwise `0` |\n",
    "| `mortgage` | `bool` | Whether the client has an existing mortgage (housing loan) | Convert to boolean data type:<br> `1` if `\"yes\"`, otherwise `0` |\n",
    "\n",
    "<br>\n",
    "\n",
    "## `campaign.csv`\n",
    "\n",
    "| column | data type | description | cleaning requirements |\n",
    "|--------|-----------|-------------|-----------------------|\n",
    "| `client_id` | `integer` | Client ID | N/A |\n",
    "| `number_contacts` | `integer` | Number of contact attempts to the client in the current campaign | N/A |\n",
    "| `contact_duration` | `integer` | Last contact duration in seconds | N/A |\n",
    "| `previous_campaign_contacts` | `integer` | Number of contact attempts to the client in the previous campaign | N/A |\n",
    "| `previous_outcome` | `bool` | Outcome of the previous campaign | Convert to boolean data type:<br> `1` if `\"success\"`, otherwise `0`. |\n",
    "| `campaign_outcome` | `bool` | Outcome of the current campaign | Convert to boolean data type:<br> `1` if `\"yes\"`, otherwise `0`. |\n",
    "| `last_contact_date` | `datetime` | Last date the client was contacted | Create from a combination of `day`, `month`, and a newly created `year` column (which should have a value of `2022`); <br> **Format =** `\"YYYY-MM-DD\"` |\n",
    "\n",
    "<br>\n",
    "\n",
    "## `economics.csv`\n",
    "\n",
    "| column | data type | description | cleaning requirements |\n",
    "|--------|-----------|-------------|-----------------------|\n",
    "| `client_id` | `integer` | Client ID | N/A |\n",
    "| `cons_price_idx` | `float` | Consumer price index (monthly indicator) | N/A |\n",
    "| `euribor_three_months` | `float` | Euro Interbank Offered Rate (euribor) three-month rate (daily indicator) | N/A |"
   ]
  },
  {
   "cell_type": "code",
   "execution_count": 14,
   "id": "e2edad3c-8286-4983-b5b7-35d94fd78023",
   "metadata": {
    "executionCancelledAt": null,
    "executionTime": 502,
    "lastExecutedAt": 1728015999025,
    "lastExecutedByKernel": "bb9fe536-15f0-4d60-83ae-45d130c77ec7",
    "lastScheduledRunId": null,
    "lastSuccessfullyExecutedCode": "import pandas as pd\nimport numpy as np\n\ndf = pd.read_csv(\"bank_marketing.csv\")\n\n# Create client dataframe\nclient = df[[\"client_id\", \"age\", \"job\", \"marital\", \"education\", \"credit_default\", \"mortgage\"]]\n\n# Create campaign dataframe\ncampaign = df[[\"client_id\", \"number_contacts\", \"contact_duration\", \"previous_campaign_contacts\", \"previous_outcome\", \"campaign_outcome\"]]\n\n# Create economics dataframe\neconomics = df[[\"client_id\", \"cons_price_idx\", \"euribor_three_months\"]]\n\n# Cleaning data\n# Clean education column\nclient[\"education\"] = client[\"education\"].str.replace(\".\", \"_\")\nclient[\"education\"] = client[\"education\"].replace(\"unknown\", np.NaN)\n\n# Clean job column\nclient[\"job\"] = client[\"job\"].str.replace(\".\", \"_\")\n\n# Clean and convert client columns to bool data type\nfor col in [\"credit_default\", \"mortgage\"]:\n    client[col] = client[col].map({\"yes\": 1, \"no\": 0, \"unknown\": 0})\n    client[col] = client[col].astype(bool)\n    \n# Change campaign_outcome and previous_outcome to binary values\ncampaign[\"campaign_outcome\"] = campaign[\"campaign_outcome\"].map({\"yes\": 1, \"no\": 0})\ncampaign[\"previous_outcome\"] = campaign[\"previous_outcome\"].map({\"success\": 1, \"failure\": 0, \"nonexistent\": 0})\n\n# Add year\ncampaign[\"year\"] = \"2022\"\ncampaign[\"day\"] = df[\"day\"].astype(str)\ncampaign[\"last_contact_date\"] = campaign[\"year\"] + \"-\" + df[\"month\"] + '-' + campaign[\"day\"]\ncampaign[\"last_contact_date\"] = pd.to_datetime(campaign[\"last_contact_date\"], format=\"%Y-%b-%d\")\n\n# Clean and convert outcome columns to bool\nfor col in [\"campaign_outcome\", \"previous_outcome\"]:\n    campaign[col] = campaign[col].astype(bool)\n    \n# Drop unneccessary cols\ncampaign.drop(columns=[\"day\", \"year\"], inplace=True)\ndf.drop(columns=[\"month\"], inplace=True)\n\n# Save tables to individual csv files\nclient.to_csv(\"client.csv\", index=False)\ncampaign.to_csv(\"campaign.csv\", index=False)\neconomics.to_csv(\"economics.csv\", index=False)"
   },
   "outputs": [],
   "source": [
    "import pandas as pd\n",
    "import numpy as np\n",
    "\n",
    "df = pd.read_csv(\"bank_marketing.csv\")\n",
    "\n",
    "# Create client dataframe\n",
    "client = df[[\"client_id\", \"age\", \"job\", \"marital\", \"education\", \"credit_default\", \"mortgage\"]]\n",
    "\n",
    "# Create campaign dataframe\n",
    "campaign = df[[\"client_id\", \"number_contacts\", \"contact_duration\", \"previous_campaign_contacts\", \"previous_outcome\", \"campaign_outcome\"]]\n",
    "\n",
    "# Create economics dataframe\n",
    "economics = df[[\"client_id\", \"cons_price_idx\", \"euribor_three_months\"]]\n",
    "\n",
    "# Cleaning data\n",
    "# Clean education column\n",
    "client[\"education\"] = client[\"education\"].str.replace(\".\", \"_\")\n",
    "client[\"education\"] = client[\"education\"].replace(\"unknown\", np.NaN)\n",
    "\n",
    "# Clean job column\n",
    "client[\"job\"] = client[\"job\"].str.replace(\".\", \"_\")\n",
    "\n",
    "# Clean and convert client columns to bool data type\n",
    "for col in [\"credit_default\", \"mortgage\"]:\n",
    "    client[col] = client[col].map({\"yes\": 1, \"no\": 0, \"unknown\": 0})\n",
    "    client[col] = client[col].astype(bool)\n",
    "    \n",
    "# Change campaign_outcome and previous_outcome to binary values\n",
    "campaign[\"campaign_outcome\"] = campaign[\"campaign_outcome\"].map({\"yes\": 1, \"no\": 0})\n",
    "campaign[\"previous_outcome\"] = campaign[\"previous_outcome\"].map({\"success\": 1, \"failure\": 0, \"nonexistent\": 0})\n",
    "\n",
    "# Add year\n",
    "campaign[\"year\"] = \"2022\"\n",
    "campaign[\"day\"] = df[\"day\"].astype(str)\n",
    "campaign[\"last_contact_date\"] = campaign[\"year\"] + \"-\" + df[\"month\"] + '-' + campaign[\"day\"]\n",
    "campaign[\"last_contact_date\"] = pd.to_datetime(campaign[\"last_contact_date\"], format=\"%Y-%b-%d\")\n",
    "\n",
    "# Clean and convert outcome columns to bool\n",
    "for col in [\"campaign_outcome\", \"previous_outcome\"]:\n",
    "    campaign[col] = campaign[col].astype(bool)\n",
    "    \n",
    "# Drop unneccessary cols\n",
    "campaign.drop(columns=[\"day\", \"year\"], inplace=True)\n",
    "df.drop(columns=[\"month\"], inplace=True)\n",
    "\n",
    "# Save tables to individual csv files\n",
    "client.to_csv(\"client.csv\", index=False)\n",
    "campaign.to_csv(\"campaign.csv\", index=False)\n",
    "economics.to_csv(\"economics.csv\", index=False)"
   ]
  },
  {
   "cell_type": "code",
   "execution_count": 6,
   "id": "273d3770-7ce3-4af0-803a-367517b550b0",
   "metadata": {
    "executionCancelledAt": null,
    "executionTime": 88,
    "lastExecutedAt": 1710337577257,
    "lastScheduledRunId": null,
    "lastSuccessfullyExecutedCode": "df = pd.read_csv(\"bank_marketing.csv\")\n\nfor col in [\"credit_default\", \"mortgage\", \"previous_outcome\", \"campaign_outcome\"]:\n    print(col)\n    print(\"--------------\")\n    print(df[col].value_counts())",
    "outputsMetadata": {
     "0": {
      "height": 499,
      "type": "stream"
     }
    }
   },
   "outputs": [
    {
     "name": "stdout",
     "output_type": "stream",
     "text": [
      "credit_default\n",
      "--------------\n",
      "no         32588\n",
      "unknown     8597\n",
      "yes            3\n",
      "Name: credit_default, dtype: int64\n",
      "mortgage\n",
      "--------------\n",
      "yes        21576\n",
      "no         18622\n",
      "unknown      990\n",
      "Name: mortgage, dtype: int64\n",
      "previous_outcome\n",
      "--------------\n",
      "nonexistent    35563\n",
      "failure         4252\n",
      "success         1373\n",
      "Name: previous_outcome, dtype: int64\n",
      "campaign_outcome\n",
      "--------------\n",
      "no     36548\n",
      "yes     4640\n",
      "Name: campaign_outcome, dtype: int64\n"
     ]
    }
   ],
   "source": [
    "df = pd.read_csv(\"bank_marketing.csv\")\n",
    "\n",
    "for col in [\"credit_default\", \"mortgage\", \"previous_outcome\", \"campaign_outcome\"]:\n",
    "    print(col)\n",
    "    print(\"--------------\")\n",
    "    print(df[col].value_counts())"
   ]
  }
 ],
 "metadata": {
  "editor": "DataCamp Workspace",
  "kernelspec": {
   "display_name": "Python 3 (ipykernel)",
   "language": "python",
   "name": "python3"
  },
  "language_info": {
   "codemirror_mode": {
    "name": "ipython",
    "version": 3
   },
   "file_extension": ".py",
   "mimetype": "text/x-python",
   "name": "python",
   "nbconvert_exporter": "python",
   "pygments_lexer": "ipython3",
   "version": "3.10.6"
  }
 },
 "nbformat": 4,
 "nbformat_minor": 5
}
