{
 "cells": [
  {
   "cell_type": "code",
   "execution_count": null,
   "id": "c0d64ff1-a4ca-4a82-a8b4-e210244dedc1",
   "metadata": {
    "executionCancelledAt": null,
    "executionTime": 84,
    "lastExecutedAt": 1730350066755,
    "lastExecutedByKernel": "f47b20e0-6a49-40db-810b-f34c1531f10d",
    "lastScheduledRunId": null,
    "lastSuccessfullyExecutedCode": "import pandas as pd\nimport os\n\ndef extract(store_data, extra_data):\n    extra_df = pd.read_parquet(extra_data)\n    merged_df = store_data.merge(extra_df, on = \"index\")\n    return merged_df\n\nmerged_df = extract(grocery_sales, \"extra_data.parquet\")"
   },
   "outputs": [],
   "source": [
    "import pandas as pd\n",
    "import os\n",
    "\n",
    "def extract(store_data, extra_data):\n",
    "    extra_df = pd.read_parquet(extra_data)\n",
    "    merged_df = store_data.merge(extra_df, on = \"index\")\n",
    "    return merged_df\n",
    "\n",
    "merged_df = extract(grocery_sales, \"extra_data.parquet\")"
   ]
  },
  {
   "cell_type": "code",
   "execution_count": null,
   "id": "6d3c25e2-e7d8-4c33-9be0-d45f03b2cf43",
   "metadata": {
    "executionCancelledAt": null,
    "executionTime": 52,
    "lastExecutedAt": 1730350066807,
    "lastExecutedByKernel": "f47b20e0-6a49-40db-810b-f34c1531f10d",
    "lastScheduledRunId": null,
    "lastSuccessfullyExecutedCode": "def transform(raw_data):\n    raw_data.fillna(\n        {\n            'CPI': raw_data['CPI'].mean(),\n            'Weekly_Sales': raw_data['Weekly_Sales'].mean(),\n            'Unemployment': raw_data['Unemployment'].mean(),\n        }, inplace=True\n    )\n    \n    raw_data['Date'] = pd.to_datetime(raw_data['Date'], format='%Y-%m-%d')\n    raw_data['Month'] = raw_data['Date'].dt.month\n    raw_data = raw_data.loc[raw_data['Weekly_Sales'] > 10000, :]\n    \n    # drop unnecessary columns\n    raw_data = raw_data.drop(['index', 'Temperature', \"Fuel_Price\", \"MarkDown1\", \"MarkDown2\", \"MarkDown3\", \"MarkDown4\", \"MarkDown5\", \"Type\", \"Size\", \"Date\"], axis=1)\n    \n    return raw_data"
   },
   "outputs": [],
   "source": [
    "def transform(raw_data):\n",
    "    raw_data.fillna(\n",
    "        {\n",
    "            'CPI': raw_data['CPI'].mean(),\n",
    "            'Weekly_Sales': raw_data['Weekly_Sales'].mean(),\n",
    "            'Unemployment': raw_data['Unemployment'].mean(),\n",
    "        }, inplace=True\n",
    "    )\n",
    "    \n",
    "    raw_data['Date'] = pd.to_datetime(raw_data['Date'], format='%Y-%m-%d')\n",
    "    raw_data['Month'] = raw_data['Date'].dt.month\n",
    "    raw_data = raw_data.loc[raw_data['Weekly_Sales'] > 10000, :]\n",
    "    \n",
    "    # drop unnecessary columns\n",
    "    raw_data = raw_data.drop(['index', 'Temperature', \"Fuel_Price\", \"MarkDown1\", \"MarkDown2\", \"MarkDown3\", \"MarkDown4\", \"MarkDown5\", \"Type\", \"Size\", \"Date\"], axis=1)\n",
    "    \n",
    "    return raw_data"
   ]
  },
  {
   "cell_type": "code",
   "execution_count": null,
   "id": "620b7289-06cd-4205-be9e-a50dc8d36cf0",
   "metadata": {
    "executionCancelledAt": null,
    "executionTime": 52,
    "lastExecutedAt": 1730350066859,
    "lastExecutedByKernel": "f47b20e0-6a49-40db-810b-f34c1531f10d",
    "lastScheduledRunId": null,
    "lastSuccessfullyExecutedCode": "clean_data = transform(merged_df)"
   },
   "outputs": [],
   "source": [
    "clean_data = transform(merged_df)"
   ]
  },
  {
   "cell_type": "code",
   "execution_count": null,
   "id": "b19b15e3-6624-47a9-927f-d3f12fe8212d",
   "metadata": {
    "executionCancelledAt": null,
    "executionTime": 48,
    "lastExecutedAt": 1730350066907,
    "lastExecutedByKernel": "f47b20e0-6a49-40db-810b-f34c1531f10d",
    "lastScheduledRunId": null,
    "lastSuccessfullyExecutedCode": "# Create the avg_weekly_sales_per_month function that takes in the cleaned data from the last step\ndef avg_weekly_sales_per_month(clean_data):\n    holidays_sales = clean_data[['Month', 'Weekly_Sales']]\n    holidays_sales = (holidays_sales.groupby(\"Month\")\n    .agg(Avg_Sales = (\"Weekly_Sales\", \"mean\"))\n    .reset_index().round(2))\n    return holidays_sales"
   },
   "outputs": [],
   "source": [
    "# Create the avg_weekly_sales_per_month function that takes in the cleaned data from the last step\n",
    "def avg_weekly_sales_per_month(clean_data):\n",
    "    holidays_sales = clean_data[['Month', 'Weekly_Sales']]\n",
    "    holidays_sales = (holidays_sales.groupby(\"Month\")\n",
    "    .agg(Avg_Sales = (\"Weekly_Sales\", \"mean\"))\n",
    "    .reset_index().round(2))\n",
    "    return holidays_sales"
   ]
  },
  {
   "cell_type": "code",
   "execution_count": null,
   "id": "fe875e27-b0cf-4e52-994e-4ae1fe6e8876",
   "metadata": {
    "executionCancelledAt": null,
    "executionTime": 52,
    "lastExecutedAt": 1730350066959,
    "lastExecutedByKernel": "f47b20e0-6a49-40db-810b-f34c1531f10d",
    "lastScheduledRunId": null,
    "lastSuccessfullyExecutedCode": "agg_data = avg_weekly_sales_per_month(clean_data)"
   },
   "outputs": [],
   "source": [
    "agg_data = avg_weekly_sales_per_month(clean_data)"
   ]
  },
  {
   "cell_type": "code",
   "execution_count": null,
   "id": "921cb123-3153-4334-bdeb-9bb227fdc530",
   "metadata": {
    "executionCancelledAt": null,
    "executionTime": 48,
    "lastExecutedAt": 1730350067007,
    "lastExecutedByKernel": "f47b20e0-6a49-40db-810b-f34c1531f10d",
    "lastScheduledRunId": null,
    "lastSuccessfullyExecutedCode": "def load(full_data, full_data_file_path, agg_data, agg_data_file_path):\n    full_data.to_csv(full_data_file_path, index=False)\n    agg_data.to_csv(agg_data_file_path, index=False)"
   },
   "outputs": [],
   "source": [
    "def load(full_data, full_data_file_path, agg_data, agg_data_file_path):\n",
    "    full_data.to_csv(full_data_file_path, index=False)\n",
    "    agg_data.to_csv(agg_data_file_path, index=False)"
   ]
  },
  {
   "cell_type": "code",
   "execution_count": null,
   "id": "f518ad5c-214e-474b-80bd-827b0c0e1536",
   "metadata": {
    "executionCancelledAt": null,
    "executionTime": 376,
    "lastExecutedAt": 1730350067383,
    "lastExecutedByKernel": "f47b20e0-6a49-40db-810b-f34c1531f10d",
    "lastScheduledRunId": null,
    "lastSuccessfullyExecutedCode": "load(clean_data, 'clean_data.csv', agg_data, 'agg_data.csv')"
   },
   "outputs": [],
   "source": [
    "load(clean_data, 'clean_data.csv', agg_data, 'agg_data.csv')"
   ]
  },
  {
   "cell_type": "code",
   "execution_count": null,
   "id": "61b5f58a-70cb-40b3-bdbe-20b4079276e3",
   "metadata": {
    "executionCancelledAt": null,
    "executionTime": 50,
    "lastExecutedAt": 1730350067435,
    "lastExecutedByKernel": "f47b20e0-6a49-40db-810b-f34c1531f10d",
    "lastScheduledRunId": null,
    "lastSuccessfullyExecutedCode": "def validation(file_path):\n    file_exists = os.path.exists(file_path)\n    if not file_exists:\n        raise Exception(f\"There is no file at the path {file_path}\")"
   },
   "outputs": [],
   "source": [
    "def validation(file_path):\n",
    "    file_exists = os.path.exists(file_path)\n",
    "    if not file_exists:\n",
    "        raise Exception(f\"There is no file at the path {file_path}\")"
   ]
  },
  {
   "cell_type": "code",
   "execution_count": null,
   "id": "df1659ff-41c4-4a92-9812-80c6eaa02b90",
   "metadata": {
    "executionCancelledAt": null,
    "executionTime": 52,
    "lastExecutedAt": 1730350067487,
    "lastExecutedByKernel": "f47b20e0-6a49-40db-810b-f34c1531f10d",
    "lastScheduledRunId": null,
    "lastSuccessfullyExecutedCode": "validation('clean_data.csv')\nvalidation('agg_data.csv')"
   },
   "outputs": [],
   "source": [
    "validation('clean_data.csv')\n",
    "validation('agg_data.csv')"
   ]
  }
 ],
 "metadata": {
  "colab": {
   "name": "Welcome to DataCamp Workspaces.ipynb",
   "provenance": []
  },
  "editor": "DataLab",
  "kernelspec": {
   "display_name": "Python 3 (ipykernel)",
   "language": "python",
   "name": "python3"
  },
  "language_info": {
   "codemirror_mode": {
    "name": "ipython",
    "version": 3
   },
   "file_extension": ".py",
   "mimetype": "text/x-python",
   "name": "python",
   "nbconvert_exporter": "python",
   "pygments_lexer": "ipython3",
   "version": "3.10.6"
  }
 },
 "nbformat": 4,
 "nbformat_minor": 5
}
