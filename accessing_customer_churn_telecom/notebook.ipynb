{
 "cells": [
  {
   "cell_type": "markdown",
   "id": "dafa483a-e084-4ba8-9236-5c0468364e0d",
   "metadata": {},
   "source": [
    "About Data:\n",
    "\n",
    "- `telecom_demographics.csv` contains information related to Indian customer demographics:\n",
    "\n",
    "| Variable             | Description                                      |\n",
    "|----------------------|--------------------------------------------------|\n",
    "| `customer_id `         | Unique identifier for each customer.             |\n",
    "| `telecom_partner `     | The telecom partner associated with the customer.|\n",
    "| `gender `              | The gender of the customer.                      |\n",
    "| `age `                 | The age of the customer.                         |\n",
    "| `state`                | The Indian state in which the customer is located.|\n",
    "| `city`                 | The city in which the customer is located.       |\n",
    "| `pincode`              | The pincode of the customer's location.          |\n",
    "| `registration_event` | When the customer registered with the telecom partner.|\n",
    "| `num_dependents`      | The number of dependents (e.g., children) the customer has.|\n",
    "| `estimated_salary`     | The customer's estimated salary.                 |\n",
    "\n",
    "- `telecom_usage` contains information about the usage patterns of Indian customers:\n",
    "\n",
    "| Variable   | Description                                                  |\n",
    "|------------|--------------------------------------------------------------|\n",
    "| `customer_id` | Unique identifier for each customer.                         |\n",
    "| `calls_made` | The number of calls made by the customer.                    |\n",
    "| `sms_sent`   | The number of SMS messages sent by the customer.             |\n",
    "| `data_used`  | The amount of data used by the customer.                     |\n",
    "| `churn`    | Binary variable indicating whether the customer has churned or not (1 = churned, 0 = not churned).|\n"
   ]
  },
  {
   "cell_type": "code",
   "execution_count": 77,
   "id": "95efd3c7-a48a-49c2-9df6-36f078de3b38",
   "metadata": {
    "executionCancelledAt": null,
    "executionTime": 52,
    "lastExecutedAt": 1728038424776,
    "lastExecutedByKernel": "e37f44dc-e594-410b-8bad-7190f2968502",
    "lastScheduledRunId": null,
    "lastSuccessfullyExecutedCode": "# Import libraries and methods/functions\nimport pandas as pd\nfrom sklearn.preprocessing import StandardScaler, OneHotEncoder \nfrom sklearn.model_selection import train_test_split\nfrom sklearn.linear_model import LogisticRegression\nfrom sklearn.ensemble import RandomForestClassifier\nfrom sklearn.metrics import classification_report, confusion_matrix"
   },
   "outputs": [],
   "source": [
    "# Import libraries and methods/functions\n",
    "import pandas as pd\n",
    "from sklearn.preprocessing import StandardScaler, OneHotEncoder \n",
    "from sklearn.model_selection import train_test_split\n",
    "from sklearn.linear_model import LogisticRegression\n",
    "from sklearn.ensemble import RandomForestClassifier\n",
    "from sklearn.metrics import classification_report, confusion_matrix"
   ]
  },
  {
   "cell_type": "code",
   "execution_count": 78,
   "id": "316a2142-e549-4952-a1b3-98eafc97fd7d",
   "metadata": {
    "executionCancelledAt": null,
    "executionTime": 52,
    "lastExecutedAt": 1728038424828,
    "lastExecutedByKernel": "e37f44dc-e594-410b-8bad-7190f2968502",
    "lastScheduledRunId": null,
    "lastSuccessfullyExecutedCode": "# Read csvs\ndemographics = pd.read_csv(\"telecom_demographics.csv\")\nusage = pd.read_csv(\"telecom_usage.csv\")\n\n# Join dfs and find rate of churn\nchurn_df = demographics.merge(usage, on=\"customer_id\")\nchurn_rate = churn_data[\"churn\"].value_counts() / len(churn_data)\nprint(churn_rate)",
    "outputsMetadata": {
     "0": {
      "height": 80,
      "type": "stream"
     }
    }
   },
   "outputs": [
    {
     "name": "stdout",
     "output_type": "stream",
     "text": [
      "0    0.799538\n",
      "1    0.200462\n",
      "Name: churn, dtype: float64\n"
     ]
    }
   ],
   "source": [
    "# Read csvs\n",
    "demographics = pd.read_csv(\"telecom_demographics.csv\")\n",
    "usage = pd.read_csv(\"telecom_usage.csv\")\n",
    "\n",
    "# Join dfs and find rate of churn\n",
    "churn_df = demographics.merge(usage, on=\"customer_id\")\n",
    "churn_rate = churn_data[\"churn\"].value_counts() / len(churn_data)\n",
    "print(churn_rate)"
   ]
  },
  {
   "cell_type": "code",
   "execution_count": 79,
   "id": "cb18ec22-433e-462c-b05a-869c5293a67b",
   "metadata": {
    "executionCancelledAt": null,
    "executionTime": 52,
    "lastExecutedAt": 1728038424880,
    "lastExecutedByKernel": "e37f44dc-e594-410b-8bad-7190f2968502",
    "lastScheduledRunId": null,
    "lastSuccessfullyExecutedCode": "# Determine categorical variables\nprint(churn_df.info())",
    "outputsMetadata": {
     "0": {
      "height": 479,
      "type": "stream"
     }
    }
   },
   "outputs": [
    {
     "name": "stdout",
     "output_type": "stream",
     "text": [
      "<class 'pandas.core.frame.DataFrame'>\n",
      "Int64Index: 6500 entries, 0 to 6499\n",
      "Data columns (total 14 columns):\n",
      " #   Column              Non-Null Count  Dtype \n",
      "---  ------              --------------  ----- \n",
      " 0   customer_id         6500 non-null   int64 \n",
      " 1   telecom_partner     6500 non-null   object\n",
      " 2   gender              6500 non-null   object\n",
      " 3   age                 6500 non-null   int64 \n",
      " 4   state               6500 non-null   object\n",
      " 5   city                6500 non-null   object\n",
      " 6   pincode             6500 non-null   int64 \n",
      " 7   registration_event  6500 non-null   object\n",
      " 8   num_dependents      6500 non-null   int64 \n",
      " 9   estimated_salary    6500 non-null   int64 \n",
      " 10  calls_made          6500 non-null   int64 \n",
      " 11  sms_sent            6500 non-null   int64 \n",
      " 12  data_used           6500 non-null   int64 \n",
      " 13  churn               6500 non-null   int64 \n",
      "dtypes: int64(9), object(5)\n",
      "memory usage: 761.7+ KB\n",
      "None\n"
     ]
    }
   ],
   "source": [
    "# Determine categorical variables\n",
    "print(churn_df.info())"
   ]
  },
  {
   "cell_type": "code",
   "execution_count": 80,
   "id": "f06ca056-bb2c-4ee5-b4f4-0a461dff9f8e",
   "metadata": {
    "executionCancelledAt": null,
    "executionTime": 60,
    "lastExecutedAt": 1728038424940,
    "lastExecutedByKernel": "e37f44dc-e594-410b-8bad-7190f2968502",
    "lastScheduledRunId": null,
    "lastSuccessfullyExecutedCode": "# One Hot Encoding for Categorical Variables\nchurn_df = pd.get_dummies(churn_df, columns=[\"telecom_partner\", \"gender\", \"state\", \"city\", \"registration_event\"])"
   },
   "outputs": [],
   "source": [
    "# One Hot Encoding for Categorical Variables\n",
    "churn_df = pd.get_dummies(churn_df, columns=[\"telecom_partner\", \"gender\", \"state\", \"city\", \"registration_event\"])"
   ]
  },
  {
   "cell_type": "code",
   "execution_count": 81,
   "id": "5d3b4b3c-4eb1-4299-adfb-6174d85a7523",
   "metadata": {
    "executionCancelledAt": null,
    "executionTime": 168,
    "lastExecutedAt": 1728038425108,
    "lastExecutedByKernel": "e37f44dc-e594-410b-8bad-7190f2968502",
    "lastScheduledRunId": null,
    "lastSuccessfullyExecutedCode": "# Standard Scaling\nscaler = StandardScaler()\nfeatures = churn_df.drop([\"customer_id\", \"churn\"], axis=1)\nfeatures_scaled = scaler.fit_transform(features)\n\n# Define target column\ntarget = churn_df[\"churn\"]\n\n# Splitting the data\nX_train, X_test, y_train, y_test = train_test_split(features_scaled, target, random_state=42, test_size=0.2)"
   },
   "outputs": [],
   "source": [
    "# Standard Scaling\n",
    "scaler = StandardScaler()\n",
    "features = churn_df.drop([\"customer_id\", \"churn\"], axis=1)\n",
    "features_scaled = scaler.fit_transform(features)\n",
    "\n",
    "# Define target column\n",
    "target = churn_df[\"churn\"]\n",
    "\n",
    "# Splitting the data\n",
    "X_train, X_test, y_train, y_test = train_test_split(features_scaled, target, random_state=42, test_size=0.2)"
   ]
  },
  {
   "cell_type": "code",
   "execution_count": 82,
   "id": "3877e31d-9af9-4768-9275-31c8f155805e",
   "metadata": {
    "executionCancelledAt": null,
    "executionTime": 2107,
    "lastExecutedAt": 1728038427217,
    "lastExecutedByKernel": "e37f44dc-e594-410b-8bad-7190f2968502",
    "lastScheduledRunId": null,
    "lastSuccessfullyExecutedCode": "# Instantiate logistic regression model\nlog_reg_model = LogisticRegression(random_state=42)\n\n# Fit logistic regression model\nlog_reg_model.fit(X_train, y_train)\n\n# Predict\nlogreg_pred = log_reg_model.predict(X_test)"
   },
   "outputs": [],
   "source": [
    "# Instantiate logistic regression model\n",
    "log_reg_model = LogisticRegression(random_state=42)\n",
    "\n",
    "# Fit logistic regression model\n",
    "log_reg_model.fit(X_train, y_train)\n",
    "\n",
    "# Predict\n",
    "logreg_pred = log_reg_model.predict(X_test)"
   ]
  },
  {
   "cell_type": "code",
   "execution_count": 83,
   "id": "f96bb244-cbdb-49f0-bbf7-6b327b4781bb",
   "metadata": {
    "executionCancelledAt": null,
    "executionTime": 3641,
    "lastExecutedAt": 1728038430860,
    "lastExecutedByKernel": "e37f44dc-e594-410b-8bad-7190f2968502",
    "lastScheduledRunId": null,
    "lastSuccessfullyExecutedCode": "# Instantiate random forest model\nrf_model = RandomForestClassifier(random_state=42)\n\n# Fit random forest model\nrf_model.fit(X_train, y_train)\n\n# Predict\nrf_pred = rf_model.predict(X_test)"
   },
   "outputs": [],
   "source": [
    "# Instantiate random forest model\n",
    "rf_model = RandomForestClassifier(random_state=42)\n",
    "\n",
    "# Fit random forest model\n",
    "rf_model.fit(X_train, y_train)\n",
    "\n",
    "# Predict\n",
    "rf_pred = rf_model.predict(X_test)"
   ]
  },
  {
   "cell_type": "code",
   "execution_count": 84,
   "id": "df6c5f8c-412a-4e0d-a9d7-d19761450471",
   "metadata": {
    "executionCancelledAt": null,
    "executionTime": 46,
    "lastExecutedAt": 1728038430908,
    "lastExecutedByKernel": "e37f44dc-e594-410b-8bad-7190f2968502",
    "lastScheduledRunId": null,
    "lastSuccessfullyExecutedCode": "# Accessing the models\n# Confusion matrices\nlogreg_cm = confusion_matrix(y_test, logreg_pred)\nrf_cm = confusion_matrix(y_test, rf_pred)\nprint(ridge_cm, rf_cm)"
   },
   "outputs": [
    {
     "name": "stdout",
     "output_type": "stream",
     "text": [
      "[[927 100]\n",
      " [248  25]] [[1026    1]\n",
      " [ 273    0]]\n"
     ]
    }
   ],
   "source": [
    "# Accessing the models\n",
    "# Confusion matrices\n",
    "logreg_cm = confusion_matrix(y_test, logreg_pred)\n",
    "rf_cm = confusion_matrix(y_test, rf_pred)\n",
    "print(ridge_cm, rf_cm)"
   ]
  },
  {
   "cell_type": "code",
   "execution_count": 85,
   "id": "864fcdeb-9c6e-47be-9c4e-ac45bbcb00b2",
   "metadata": {
    "executionCancelledAt": null,
    "executionTime": 53,
    "lastExecutedAt": 1728038430961,
    "lastExecutedByKernel": "e37f44dc-e594-410b-8bad-7190f2968502",
    "lastScheduledRunId": null,
    "lastSuccessfullyExecutedCode": "# Classification reports\nlogreg_report = classification_report(y_test, logreg_pred)\nrf_report = classification_report(y_test, rf_pred)\nprint(logreg_report)"
   },
   "outputs": [
    {
     "name": "stdout",
     "output_type": "stream",
     "text": [
      "              precision    recall  f1-score   support\n",
      "\n",
      "           0       0.79      0.90      0.84      1027\n",
      "           1       0.21      0.10      0.14       273\n",
      "\n",
      "    accuracy                           0.73      1300\n",
      "   macro avg       0.50      0.50      0.49      1300\n",
      "weighted avg       0.67      0.73      0.69      1300\n",
      "\n"
     ]
    }
   ],
   "source": [
    "# Classification reports\n",
    "logreg_report = classification_report(y_test, logreg_pred)\n",
    "rf_report = classification_report(y_test, rf_pred)\n",
    "print(logreg_report)"
   ]
  },
  {
   "cell_type": "code",
   "execution_count": 86,
   "id": "95d7ee5b-e1dc-47c1-94e5-efb2e9a912d4",
   "metadata": {
    "executionCancelledAt": null,
    "executionTime": 52,
    "lastExecutedAt": 1728038431013,
    "lastExecutedByKernel": "e37f44dc-e594-410b-8bad-7190f2968502",
    "lastScheduledRunId": null,
    "lastSuccessfullyExecutedCode": "print(rf_report)",
    "outputsMetadata": {
     "0": {
      "height": 206,
      "type": "stream"
     }
    }
   },
   "outputs": [
    {
     "name": "stdout",
     "output_type": "stream",
     "text": [
      "              precision    recall  f1-score   support\n",
      "\n",
      "           0       0.79      1.00      0.88      1027\n",
      "           1       0.00      0.00      0.00       273\n",
      "\n",
      "    accuracy                           0.79      1300\n",
      "   macro avg       0.39      0.50      0.44      1300\n",
      "weighted avg       0.62      0.79      0.70      1300\n",
      "\n"
     ]
    }
   ],
   "source": [
    "print(rf_report)"
   ]
  },
  {
   "cell_type": "markdown",
   "id": "2f5cd2ba-f8d4-4b23-99a8-7d36b102f62a",
   "metadata": {},
   "source": [
    "Random Forest model has a higher accuracy."
   ]
  },
  {
   "cell_type": "code",
   "execution_count": 87,
   "id": "2a526337-5932-4c3b-8bab-0f08d1bdbdf9",
   "metadata": {
    "executionCancelledAt": null,
    "executionTime": 47,
    "lastExecutedAt": 1728038431060,
    "lastExecutedByKernel": "e37f44dc-e594-410b-8bad-7190f2968502",
    "lastScheduledRunId": null,
    "lastSuccessfullyExecutedCode": "higher_accuracy = \"RandomForest\""
   },
   "outputs": [],
   "source": [
    "higher_accuracy = \"RandomForest\""
   ]
  }
 ],
 "metadata": {
  "colab": {
   "name": "Welcome to DataCamp Workspaces.ipynb",
   "provenance": []
  },
  "kernelspec": {
   "display_name": "Python 3 (ipykernel)",
   "language": "python",
   "name": "python3"
  },
  "language_info": {
   "codemirror_mode": {
    "name": "ipython",
    "version": 3
   },
   "file_extension": ".py",
   "mimetype": "text/x-python",
   "name": "python",
   "nbconvert_exporter": "python",
   "pygments_lexer": "ipython3",
   "version": "3.10.6"
  }
 },
 "nbformat": 4,
 "nbformat_minor": 5
}
